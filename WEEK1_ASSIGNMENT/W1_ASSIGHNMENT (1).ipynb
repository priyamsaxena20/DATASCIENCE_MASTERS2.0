{
 "cells": [
  {
   "cell_type": "code",
   "execution_count": 1,
   "id": "331da889-337b-4ac5-aa6d-d9a04946f660",
   "metadata": {},
   "outputs": [],
   "source": [
    "#ANS1 Variable contaning string\n",
    "string_s=\"pryam\""
   ]
  },
  {
   "cell_type": "code",
   "execution_count": 2,
   "id": "fb870681-e3cd-4ec7-8033-6e92b7878ee8",
   "metadata": {},
   "outputs": [
    {
     "data": {
      "text/plain": [
       "'pryam'"
      ]
     },
     "execution_count": 2,
     "metadata": {},
     "output_type": "execute_result"
    }
   ],
   "source": [
    "s\n"
   ]
  },
  {
   "cell_type": "code",
   "execution_count": 6,
   "id": "8312c913-65f1-4150-9cee-8de8129cc43a",
   "metadata": {},
   "outputs": [],
   "source": [
    "#variable contaning list\n",
    "my_list=[1,2,-4,6.7,3+7j,\"delhi\"]\n"
   ]
  },
  {
   "cell_type": "code",
   "execution_count": 7,
   "id": "282276b1-ce12-4052-b94d-06436b34b08e",
   "metadata": {},
   "outputs": [
    {
     "data": {
      "text/plain": [
       "[1, 2, -4, 6.7, (3+7j), 'delhi']"
      ]
     },
     "execution_count": 7,
     "metadata": {},
     "output_type": "execute_result"
    }
   ],
   "source": [
    "lis"
   ]
  },
  {
   "cell_type": "code",
   "execution_count": 13,
   "id": "478f8957-ce1e-4882-a0f8-11b0d26ad5a4",
   "metadata": {},
   "outputs": [],
   "source": [
    "#variable contaning float\n",
    "float_f=5.5\n"
   ]
  },
  {
   "cell_type": "code",
   "execution_count": 14,
   "id": "484beadd-0f8f-426c-844f-e7a51d2a7e53",
   "metadata": {},
   "outputs": [
    {
     "data": {
      "text/plain": [
       "5.5"
      ]
     },
     "execution_count": 14,
     "metadata": {},
     "output_type": "execute_result"
    }
   ],
   "source": [
    "float_f\n"
   ]
  },
  {
   "cell_type": "code",
   "execution_count": 19,
   "id": "ac72f3b3-247d-472c-bb3c-a3f1d2cffebf",
   "metadata": {},
   "outputs": [],
   "source": [
    "# variable contaning tuple\n",
    "my_tuple=(1,2,3,4,5)"
   ]
  },
  {
   "cell_type": "code",
   "execution_count": 20,
   "id": "4c06eec0-ab03-48db-8e4e-d97e9f6a5424",
   "metadata": {},
   "outputs": [
    {
     "data": {
      "text/plain": [
       "tuple"
      ]
     },
     "execution_count": 20,
     "metadata": {},
     "output_type": "execute_result"
    }
   ],
   "source": [
    "type(my_tuple)"
   ]
  },
  {
   "cell_type": "code",
   "execution_count": 21,
   "id": "30414f6a-2a3a-4036-8b5d-d03dfee02c2c",
   "metadata": {},
   "outputs": [],
   "source": [
    "var1=''"
   ]
  },
  {
   "cell_type": "code",
   "execution_count": 22,
   "id": "0ef657ec-d1a8-41ae-8677-32ec0e02c7f9",
   "metadata": {},
   "outputs": [
    {
     "data": {
      "text/plain": [
       "str"
      ]
     },
     "execution_count": 22,
     "metadata": {},
     "output_type": "execute_result"
    }
   ],
   "source": [
    "type(var1)"
   ]
  },
  {
   "cell_type": "code",
   "execution_count": 23,
   "id": "ff97a3e4-8b66-4dd5-a290-3e4b3e585211",
   "metadata": {},
   "outputs": [],
   "source": [
    "var2='[DS,ML,python]'"
   ]
  },
  {
   "cell_type": "code",
   "execution_count": 24,
   "id": "e25053aa-1a17-4fd4-8e49-e6d2fcd49448",
   "metadata": {},
   "outputs": [
    {
     "data": {
      "text/plain": [
       "str"
      ]
     },
     "execution_count": 24,
     "metadata": {},
     "output_type": "execute_result"
    }
   ],
   "source": [
    "type(var2)"
   ]
  },
  {
   "cell_type": "code",
   "execution_count": 25,
   "id": "0d2a1a95-3535-46c0-a55a-467d97140a69",
   "metadata": {},
   "outputs": [],
   "source": [
    "var3=['DS','ML','python']"
   ]
  },
  {
   "cell_type": "code",
   "execution_count": 26,
   "id": "869f8d0f-5b1b-4cf8-97da-5f234335f5a2",
   "metadata": {},
   "outputs": [
    {
     "data": {
      "text/plain": [
       "list"
      ]
     },
     "execution_count": 26,
     "metadata": {},
     "output_type": "execute_result"
    }
   ],
   "source": [
    "type(var3)"
   ]
  },
  {
   "cell_type": "code",
   "execution_count": 27,
   "id": "e0dbbaf3-77c3-4df0-8aeb-41964455fd0f",
   "metadata": {},
   "outputs": [],
   "source": [
    "var4=1."
   ]
  },
  {
   "cell_type": "code",
   "execution_count": 28,
   "id": "dc99bb48-8eda-463a-a15f-6bcaa7fb7cce",
   "metadata": {},
   "outputs": [
    {
     "data": {
      "text/plain": [
       "float"
      ]
     },
     "execution_count": 28,
     "metadata": {},
     "output_type": "execute_result"
    }
   ],
   "source": [
    "type(var4)"
   ]
  },
  {
   "cell_type": "code",
   "execution_count": 33,
   "id": "c12affab-9af9-4027-8e55-f6bf5f764295",
   "metadata": {},
   "outputs": [],
   "source": [
    "#ANS2 DataTypes\n",
    "# 1 is string or str\n",
    "# 2 is string or str\n",
    "# 3 is list\n",
    "# 4 is float"
   ]
  },
  {
   "cell_type": "code",
   "execution_count": 30,
   "id": "d7598fbb-73f7-4dee-95b4-e8cd5619d93f",
   "metadata": {},
   "outputs": [
    {
     "name": "stdout",
     "output_type": "stream",
     "text": [
      "33.333333333333336\n"
     ]
    }
   ],
   "source": [
    "# ANS 3\n",
    "\n",
    "# the / operator is used for division. It performs normal division and returns a float result. Here's an example to demonstrate its usage\n",
    "result = 100/ 3\n",
    "print(result)"
   ]
  },
  {
   "cell_type": "code",
   "execution_count": 32,
   "id": "feb00680-4109-4f5c-82cc-04bc816c1dd3",
   "metadata": {},
   "outputs": [
    {
     "name": "stdout",
     "output_type": "stream",
     "text": [
      "1\n"
     ]
    }
   ],
   "source": [
    "# the % operator is used for the modulus operation, which returns the remainder of a division operation. Here's an example \n",
    "result2=10%3\n",
    "print(result2)"
   ]
  },
  {
   "cell_type": "code",
   "execution_count": 34,
   "id": "92401a8c-2c9d-4613-809c-da424e0fb824",
   "metadata": {},
   "outputs": [
    {
     "name": "stdout",
     "output_type": "stream",
     "text": [
      "3\n"
     ]
    }
   ],
   "source": [
    "# the // operator is used for floor division. It performs division and rounds down the result to the nearest\n",
    "#whole number (integer). Here's an example to demonstrate its usage\n",
    "result = 10 // 3\n",
    "print(result)\n"
   ]
  },
  {
   "cell_type": "code",
   "execution_count": 35,
   "id": "378b240b-0aa9-49ba-b3d9-83b2cb748519",
   "metadata": {},
   "outputs": [
    {
     "name": "stdout",
     "output_type": "stream",
     "text": [
      "4\n"
     ]
    }
   ],
   "source": [
    "result=14//3\n",
    "print(result)"
   ]
  },
  {
   "cell_type": "code",
   "execution_count": 36,
   "id": "783ba44b-5b8e-44cc-80ed-ef48dc64f0a6",
   "metadata": {},
   "outputs": [
    {
     "name": "stdout",
     "output_type": "stream",
     "text": [
      "8\n"
     ]
    }
   ],
   "source": [
    "#In Python, the ** operator is used for exponentiation. It raises the left operand to the power of the right operand.\n",
    "#Here's an example to demonstrate its usage:\n",
    "result = 2 ** 3\n",
    "print(result)"
   ]
  },
  {
   "cell_type": "code",
   "execution_count": 37,
   "id": "3b92cbec-42bd-48ed-a5ac-ef069073c81f",
   "metadata": {},
   "outputs": [
    {
     "name": "stdout",
     "output_type": "stream",
     "text": [
      "125\n"
     ]
    }
   ],
   "source": [
    "result= 5**3\n",
    "print(result)"
   ]
  },
  {
   "cell_type": "code",
   "execution_count": 45,
   "id": "50f2dd5c-9032-492f-84bb-9be5d0d3667c",
   "metadata": {},
   "outputs": [
    {
     "name": "stdout",
     "output_type": "stream",
     "text": [
      "1   <class 'int'>\n",
      "3   <class 'int'>\n",
      "-4   <class 'int'>\n",
      "5.5   <class 'float'>\n",
      "8.9   <class 'float'>\n",
      "(3+7j)   <class 'complex'>\n",
      "delhi   <class 'str'>\n",
      "(5+6j)   <class 'complex'>\n",
      "100   <class 'int'>\n",
      "pwskill   <class 'str'>\n"
     ]
    }
   ],
   "source": [
    "#ANS4   ___list of 10\n",
    "my_list=[1,3,-4,5.5,8.9,3+7j,\"delhi\",5+6j,100,\"pwskill\"]\n",
    "for i in my_list:\n",
    "    print(i,' ',type(i))"
   ]
  },
  {
   "cell_type": "code",
   "execution_count": null,
   "id": "017b1488-8984-47f6-ac57-a6142e092b40",
   "metadata": {},
   "outputs": [],
   "source": [
    "#ANS_5\n",
    "A=int(input(\"Enter A value\"))\n",
    "B =int(input(\"Ente B value\"))\n",
    "count = 0\n",
    "\n",
    "while A % B == 0:\n",
    "    A = A // B\n",
    "    count += 1\n",
    "    \n",
    "\n",
    "print(count)"
   ]
  },
  {
   "cell_type": "code",
   "execution_count": null,
   "id": "19d85b37-0469-4e8f-9d28-20891750b2e8",
   "metadata": {},
   "outputs": [],
   "source": [
    "#ANS_6$\n",
    "List_my=[1,2,3,4,5,6,7,8,9,10,11,12,13,14,15,16,17,18,19,20,21,22,23,24,25]\n",
    "for i in List_my:\n",
    "    if (i%3==0):\n",
    "          print(i,\"   \"\"it is divisible\")\n",
    "    else:\n",
    "         print(i,\"   \"\"it is not divisible\")\n",
    "            # OUTPUT was not coming here but i run on Online compiler so output was coming right\n",
    "  "
   ]
  },
  {
   "cell_type": "code",
   "execution_count": null,
   "id": "67c1a4c5-cbb3-4820-8f86-aff074121489",
   "metadata": {},
   "outputs": [],
   "source": [
    "1    it is not divisible\n",
    "2    it is not divisible\n",
    "3    it is divisible\n",
    "4    it is not divisible\n",
    "5    it is not divisible\n",
    "6    it is divisible\n",
    "7    it is not divisible\n",
    "8    it is not divisible\n",
    "9    it is divisible\n",
    "10    it is not divisible\n",
    "11    it is not divisible\n",
    "12    it is divisible\n",
    "13    it is not divisible\n",
    "14    it is not divisible\n",
    "15    it is divisible\n",
    "16    it is not divisible\n",
    "17    it is not divisible\n",
    "18    it is divisible\n",
    "19    it is not divisible\n",
    "20    it is not divisible\n",
    "21    it is divisible\n",
    "22    it is not divisible\n",
    "23    it is not divisible\n",
    "24    it is divisible\n",
    "25    it is not divisible"
   ]
  },
  {
   "cell_type": "code",
   "execution_count": null,
   "id": "ed72e9b7-dfa9-4dfd-89cc-6748064406fe",
   "metadata": {},
   "outputs": [],
   "source": [
    "#ANS__7\n",
    "#IMMUTABLE data types\n",
    "#Immutable data types are those whose values cannot be changed once they are assigned. \n",
    "#If you modify an immutable object, a new object is created with the modified value. \n",
    "#Examples of immutable data types  include:\n",
    "#Integers:\n",
    "x = 5\n",
    "print(x)  # Output: 5\n",
    "x += 1\n",
    "print(x)  # Output: 6\n",
    "#tuple\n",
    "my_tuple=(1,4,5)\n",
    "#________________________________________________________#\n",
    "\n",
    "#Mutable data types:\n",
    "#Mutable data types, on the other hand, can have their values modified after assignment.\n",
    "#Changes made to mutable objects affect the original object itself. Examples of mutable data types in Python include:\n",
    "\n",
    "#Lists and dictonaries\n",
    "python\n",
    "Copy code\n",
    "my_list = [1, 2, 3]\n",
    "print(my_list)  # Output: [1, 2, 3]\n",
    "my_list.append(4)\n",
    "print(my_list)  # Output: [1, 2, 3, 4]\n",
    "In this example, the list my_list is initially assigned as [1, 2, 3]. When we use the append() method to add the value 4 to the list, the original list is modified in place, and the output shows the updated list [1, 2, 3, 4]."
   ]
  },
  {
   "cell_type": "code",
   "execution_count": null,
   "id": "1c32a330-f75f-4779-b3fa-f790708f3178",
   "metadata": {},
   "outputs": [],
   "source": []
  }
 ],
 "metadata": {
  "kernelspec": {
   "display_name": "Python 3 (ipykernel)",
   "language": "python",
   "name": "python3"
  },
  "language_info": {
   "codemirror_mode": {
    "name": "ipython",
    "version": 3
   },
   "file_extension": ".py",
   "mimetype": "text/x-python",
   "name": "python",
   "nbconvert_exporter": "python",
   "pygments_lexer": "ipython3",
   "version": "3.10.8"
  }
 },
 "nbformat": 4,
 "nbformat_minor": 5
}
