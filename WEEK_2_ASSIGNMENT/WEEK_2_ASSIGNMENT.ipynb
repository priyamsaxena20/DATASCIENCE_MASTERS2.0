{
 "cells": [
  {
   "cell_type": "code",
   "execution_count": 5,
   "id": "6b7596a8-31cc-4f22-891d-340fb11a039f",
   "metadata": {},
   "outputs": [
    {
     "data": {
      "text/plain": [
       "'\\n\\nIn Python, you can add comments to your code to provide explanations or notes for yourself or other developers. There are two main types of comments in Python\\n1- single line commnent for this we use # symbol\\n2- multiline comment in python we dont have the build in syntal so we use docstring for multiline comment \\n\\n'"
      ]
     },
     "execution_count": 5,
     "metadata": {},
     "output_type": "execute_result"
    }
   ],
   "source": [
    "#Q1. How do you comment code in Python? What are the different types of comments?\n",
    "\"\"\"\n",
    "\n",
    "In Python, you can add comments to your code to provide explanations or notes for yourself or other developers. There are two main types of comments in Python\n",
    "1- single line commnent for this we use # symbol\n",
    "2- multiline comment in python we dont have the build in syntal so we use docstring for multiline comment \"\"\" \"\"\"\n",
    "\n",
    "\"\"\""
   ]
  },
  {
   "cell_type": "code",
   "execution_count": 6,
   "id": "cf7e04f2-d8e6-4eba-a7c0-589dd9c97c5e",
   "metadata": {},
   "outputs": [],
   "source": [
    "#Q2. What are variables in Python? How do you declare and assign values to variables?\n",
    "\"\"\" In Python, variables are used to store data values.\n",
    "These values can be of various types, such as numbers, strings, lists, or more complex objects.\n",
    "Variables act as symbolic names that reference these values, making it easier to work with data in your programs.\n",
    "the best part of python is that I you don't need to explicitly declare the data type of a variable.you can simply create variablr by assigning value to it\n",
    "\n",
    "\"\"\"\n",
    "# for example\n",
    "age = 25\n",
    "name = \"Alice\"\n",
    "is_student = True\n",
    "\n",
    "\n",
    "\n",
    "\n",
    "\n"
   ]
  },
  {
   "cell_type": "code",
   "execution_count": 7,
   "id": "3117d308-77c6-4b03-a9d3-3bc190690ac0",
   "metadata": {},
   "outputs": [
    {
     "data": {
      "text/plain": [
       "25"
      ]
     },
     "execution_count": 7,
     "metadata": {},
     "output_type": "execute_result"
    }
   ],
   "source": [
    "age\n"
   ]
  },
  {
   "cell_type": "code",
   "execution_count": 8,
   "id": "6654ba67-2eba-48c1-86d9-5dbe10584911",
   "metadata": {},
   "outputs": [
    {
     "data": {
      "text/plain": [
       "'Alice'"
      ]
     },
     "execution_count": 8,
     "metadata": {},
     "output_type": "execute_result"
    }
   ],
   "source": [
    "name"
   ]
  },
  {
   "cell_type": "code",
   "execution_count": 9,
   "id": "3150a5b1-17f1-46e3-92f6-47caf4a0c935",
   "metadata": {},
   "outputs": [
    {
     "name": "stdout",
     "output_type": "stream",
     "text": [
      "7.0\n"
     ]
    }
   ],
   "source": [
    "#Q3 How do you convert one data type to another in Python?\n",
    "# ANS____In Python, you can convert one data type to another using type conversion functions or operations\n",
    "\"\"\" Implicit Type Conversion \n",
    "Python can automatically convert one data type to another in certain situations, such as during arithmetic operations involving different data types.\n",
    "This is known as implicit type conversion or type coercion. For example:\n",
    "\"\"\"\n",
    "x = 5       # Integer\n",
    "y = 2.0     # Float\n",
    "\n",
    "result = x + y  # Integer 'x' is implicitly converted to float\n",
    "print(result) \n",
    "\n"
   ]
  },
  {
   "cell_type": "code",
   "execution_count": 10,
   "id": "e73df2b8-4a4d-47be-bcde-06a5e0e4ce4d",
   "metadata": {},
   "outputs": [
    {
     "name": "stdout",
     "output_type": "stream",
     "text": [
      "5\n",
      "42\n"
     ]
    }
   ],
   "source": [
    "#In the above example, the integer x is automatically converted to a float to perform the addition. thats why the value is 7.0\n",
    "\"\"\" 2 Type Casting\n",
    "You can explicitly convert one data type to another using type conversion functions. Python provides several built-in functions for this purpose:\n",
    "\n",
    "int(): Converts to an integer.\n",
    "float(): Converts to a floating-point number.\n",
    "str(): Converts to a string.\n",
    "list(): Converts to a list.\n",
    "tuple(): Converts to a tuple.\n",
    "bool(): Converts to a Boolean (True or False).\n",
    "\"\"\"\n",
    "# Explicitly converting to integer\n",
    "x = 5.7\n",
    "int_x = int(x)\n",
    "print(int_x)  # Output: 5\n",
    "\n",
    "# Explicitly converting to string\n",
    "num = 42\n",
    "str_num = str(num)\n",
    "print(str_num)  # Output: '42'"
   ]
  },
  {
   "cell_type": "code",
   "execution_count": 11,
   "id": "09dd442b-eee2-4734-a2e6-7e3da78693b6",
   "metadata": {},
   "outputs": [
    {
     "name": "stdout",
     "output_type": "stream",
     "text": [
      "[1, 2, 3]\n"
     ]
    }
   ],
   "source": [
    "\"\"\" 3 Using Constructors:\n",
    "For complex data types like lists, tuples, and dictionaries, you can use constructors to perform type conversion:\n",
    "\n",
    "list(): Converts to a list.\n",
    "tuple(): Converts to a tuple.\n",
    "dict(): Converts to a dictionary.\n",
    "\n",
    "\n",
    "\"\"\"\n",
    "# Convert a tuple to a list\n",
    "my_tuple = (1, 2, 3)\n",
    "my_list = list(my_tuple)\n",
    "print(my_list)  # Output: [1, 2, 3]"
   ]
  },
  {
   "cell_type": "code",
   "execution_count": 12,
   "id": "42abcc95-61ec-47e0-8fd9-1304f1ce69a0",
   "metadata": {},
   "outputs": [
    {
     "name": "stdout",
     "output_type": "stream",
     "text": [
      "Hello, World!\n"
     ]
    }
   ],
   "source": [
    "#Q4. How do you write and execute a Python script from the command line?\n",
    "\"\"\"\n",
    "create a new text file with a .py extension. \n",
    "This extension indicates that the file contains Python code. Write your Python code in this file.\n",
    "For example, create a file named myscript.py and add the following code:\n",
    "\n",
    "\"\"\"\n",
    "print(\"Hello, World!\")"
   ]
  },
  {
   "cell_type": "code",
   "execution_count": 13,
   "id": "2c239a8b-7416-4fed-a5a1-6f544467c41a",
   "metadata": {},
   "outputs": [],
   "source": [
    "#NOW open the Command promo and Use cd command to chane the directory and\n",
    "# use python myscript.py to execuse the file\n",
    "\n"
   ]
  },
  {
   "cell_type": "code",
   "execution_count": 14,
   "id": "fcd6d560-40c7-4cf6-bf7d-4f334c87d3bd",
   "metadata": {},
   "outputs": [
    {
     "name": "stdout",
     "output_type": "stream",
     "text": [
      "[2, 3]\n"
     ]
    }
   ],
   "source": [
    "#Q5. Given a list my_list = [1, 2, 3, 4, 5], write the code to slice the list and obtain the sub-list [2, 3].\n",
    "my_list = [1, 2, 3, 4, 5]\n",
    "sub_list = my_list[1:3]\n",
    "\n",
    "print(sub_list)\n",
    "\n",
    "\n",
    "\n",
    "\n",
    "\n",
    "\n",
    "\n",
    "\n"
   ]
  },
  {
   "cell_type": "code",
   "execution_count": 17,
   "id": "931e95ee-33c6-4394-9772-9b935be835f7",
   "metadata": {},
   "outputs": [
    {
     "name": "stdout",
     "output_type": "stream",
     "text": [
      "(3+4j)\n",
      "(2-5j)\n"
     ]
    }
   ],
   "source": [
    "# Q6. What is a complex number in mathematics, and how is it represented in Python?\n",
    "\"\"\" In mathematics, a complex number is a number that can be expressed in the form a + bi, where:\n",
    "\n",
    "a is the real part of the complex number.\n",
    "b is the imaginary part of the complex number.\n",
    "i is the imaginary unit, which is defined as the square root of -1. It is represented as i or j in various mathematical notations.\n",
    "n Python, complex numbers are represented using the j suffix  instea of i to denote the imaginary part.\n",
    "You can create complex numbers in Python using the following syntax:\n",
    "\n",
    "\n",
    "\"\"\"\n",
    "z1 = 3 + 4j    # 3 is the real part, 4 is the imaginary part\n",
    "z2 = 2 - 5j    # 2 is the real part, -5 is the imaginary part\n",
    "\n",
    "\n",
    "print(z1)  # Output: (3+4j)\n",
    "print(z2)  # Output: (2-5j)\n",
    "\n",
    "\n",
    "\n"
   ]
  },
  {
   "cell_type": "code",
   "execution_count": 18,
   "id": "9e47c519-2d3e-4b43-9f00-43122f1a6e28",
   "metadata": {},
   "outputs": [],
   "source": [
    "# Q7. What is the correct way to declare a variable named age and assign the value 25 to it?\n",
    "\n",
    "\n",
    "#The correct way to declare a variable named age and assign the value 25 to it in Python is as follows:\n",
    "\n",
    "\n",
    "age = 25\n",
    "\n",
    "\n",
    "\n"
   ]
  },
  {
   "cell_type": "code",
   "execution_count": 19,
   "id": "23019b29-8aab-4ff5-bbe5-412817bad81d",
   "metadata": {},
   "outputs": [
    {
     "data": {
      "text/plain": [
       "25"
      ]
     },
     "execution_count": 19,
     "metadata": {},
     "output_type": "execute_result"
    }
   ],
   "source": [
    "age"
   ]
  },
  {
   "cell_type": "code",
   "execution_count": 27,
   "id": "4dbc3efc-43ee-4280-a6be-16d605d45b0e",
   "metadata": {},
   "outputs": [
    {
     "data": {
      "text/plain": [
       "float"
      ]
     },
     "execution_count": 27,
     "metadata": {},
     "output_type": "execute_result"
    }
   ],
   "source": [
    "# Q8. Declare a variable named price and assign the value 9.99 to it. What data type does this variable\n",
    "#belong to?\n",
    "price = 9.99\n",
    "type(price)\n",
    "# as you can see its a float data type\n",
    "\n",
    "\n",
    "\n",
    "\n",
    "\n"
   ]
  },
  {
   "cell_type": "code",
   "execution_count": 28,
   "id": "16668c7f-dda2-4ccc-979a-ac8bf799cbc0",
   "metadata": {},
   "outputs": [
    {
     "name": "stdout",
     "output_type": "stream",
     "text": [
      "Priyam Saxena\n"
     ]
    }
   ],
   "source": [
    "# Q9. Create a variable named name and assign your full name to it as a string. How would you print the\n",
    "#value of this variable?\n",
    "name = \"Priyam Saxena\"\n",
    "print(name)\n",
    "\n",
    "\n"
   ]
  },
  {
   "cell_type": "code",
   "execution_count": 29,
   "id": "a5b33ad0-8903-4864-aa69-c6e154c0be3a",
   "metadata": {},
   "outputs": [],
   "source": [
    "## we will use the print function for printing\n"
   ]
  },
  {
   "cell_type": "code",
   "execution_count": 30,
   "id": "3706b129-7d86-4745-98c3-6b9eff45f0e6",
   "metadata": {},
   "outputs": [
    {
     "name": "stdout",
     "output_type": "stream",
     "text": [
      "World\n"
     ]
    }
   ],
   "source": [
    "# Q10. Given the string \"Hello, World!\", extract the substring \"World\".\n",
    "input_string = \"Hello, World!\"\n",
    "\n",
    "# Extracting the substring \"World\"\n",
    "substring = input_string[7:12]\n",
    "\n",
    "# Printing the extracted substring\n",
    "print(substring)"
   ]
  },
  {
   "cell_type": "code",
   "execution_count": 31,
   "id": "72965430-db9e-46d8-944f-abe258ff8aaa",
   "metadata": {},
   "outputs": [],
   "source": [
    "# Q11. Create a variable named \"is_student\" and assign it a boolean value indicating whether you are\n",
    "#currently a student or not.\n",
    "is_student = True  # Change this to False if you are not a student\n",
    "#In this example, the variable \"is_student\" is assigned the value True to indicate that you are currently a student.\n",
    "#If you are not a student, you can change it to False.\n"
   ]
  },
  {
   "cell_type": "code",
   "execution_count": 32,
   "id": "3780470e-9d6e-4b95-94fc-3d72158e484e",
   "metadata": {},
   "outputs": [
    {
     "data": {
      "text/plain": [
       "True"
      ]
     },
     "execution_count": 32,
     "metadata": {},
     "output_type": "execute_result"
    }
   ],
   "source": [
    "is_student"
   ]
  },
  {
   "cell_type": "code",
   "execution_count": null,
   "id": "f31fd767-eddc-4456-a00b-d7efb12dd6bc",
   "metadata": {},
   "outputs": [],
   "source": []
  }
 ],
 "metadata": {
  "kernelspec": {
   "display_name": "Python 3 (ipykernel)",
   "language": "python",
   "name": "python3"
  },
  "language_info": {
   "codemirror_mode": {
    "name": "ipython",
    "version": 3
   },
   "file_extension": ".py",
   "mimetype": "text/x-python",
   "name": "python",
   "nbconvert_exporter": "python",
   "pygments_lexer": "ipython3",
   "version": "3.10.8"
  }
 },
 "nbformat": 4,
 "nbformat_minor": 5
}
